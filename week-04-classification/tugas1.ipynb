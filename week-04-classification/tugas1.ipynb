{
 "cells": [
  {
   "cell_type": "markdown",
   "metadata": {},
   "source": [
    "## Tugas"
   ]
  },
  {
   "cell_type": "markdown",
   "metadata": {},
   "source": [
    "1. Buatlah model klasifikasi dengan menggunakan SVM untuk data suara, voice.csv. \n",
    "2. Buatlah model klasfikasi Multinomial Naive Bayes dengan ketentuan,\n",
    "    1. Menggunakan data spam.csv\n",
    "    2. Fitur CountVectorizer dengan mengaktifkan stop_words\n",
    "    3. Evaluasi hasilnya\n",
    "3. Buatlah model klasfikasi Multinomial Naive Bayes dengan ketentuan,\n",
    "    1. Menggunakan data spam.csv\n",
    "    2. Fitur TF-IDF dengan mengaktifkan stop_words\n",
    "    3. Evaluasi hasilnya dan bandingkan dengan hasil pada Tugas no 2.\n",
    "    4. Berikan kesimpulan fitur mana yang terbaik pada kasus data spam.csv"
   ]
  }
 ],
 "metadata": {
  "language_info": {
   "name": "python"
  },
  "orig_nbformat": 4
 },
 "nbformat": 4,
 "nbformat_minor": 2
}
