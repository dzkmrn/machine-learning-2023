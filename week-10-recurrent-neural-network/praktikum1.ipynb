{
  "nbformat": 4,
  "nbformat_minor": 0,
  "metadata": {
    "colab": {
      "provenance": [],
      "gpuType": "T4"
    },
    "kernelspec": {
      "name": "python3",
      "display_name": "Python 3"
    },
    "language_info": {
      "name": "python"
    },
    "accelerator": "GPU"
  },
  "cells": [
    {
      "cell_type": "markdown",
      "source": [
        "## Praktikum 1 | RNN untuk Analisis Sentimen"
      ],
      "metadata": {
        "id": "tgjvDjNsOgZ6"
      }
    },
    {
      "cell_type": "markdown",
      "source": [
        "### Setup\n",
        "Impor matplotlib dan buat fungsi pembantu untuk memplot grafik:"
      ],
      "metadata": {
        "id": "iw3ynkh1Ok3F"
      }
    },
    {
      "cell_type": "code",
      "source": [
        "import numpy as np\n",
        "import tensorflow_datasets as tfds\n",
        "import tensorflow as tf\n",
        "\n",
        "tfds.disable_progress_bar()"
      ],
      "metadata": {
        "id": "oaIKs5GaOpm8"
      },
      "execution_count": 1,
      "outputs": []
    },
    {
      "cell_type": "code",
      "source": [
        "import matplotlib.pyplot as plt\n",
        "\n",
        "def plot_graphs(history, metric):\n",
        "  plt.plot(history.history[metric])\n",
        "  plt.plot(history.history['val_'+metric], '')\n",
        "  plt.xlabel(\"Epochs\")\n",
        "  plt.ylabel(metric)\n",
        "  plt.legend([metric, 'val_'+metric])"
      ],
      "metadata": {
        "id": "vczalPrLOrGv"
      },
      "execution_count": 2,
      "outputs": []
    },
    {
      "cell_type": "markdown",
      "source": [
        "### Setup input pipeline\n",
        "\n",
        "Dataset ulasan film IMDB adalah kumpulan data klasifikasi biner—semua ulasan memiliki sentimen positif atau negatif.\n",
        "Download dataset menggunakan TFDS. Lihat loading text tutorial jika ingin me load data secara manual"
      ],
      "metadata": {
        "id": "XXlfhNnFOxnS"
      }
    },
    {
      "cell_type": "code",
      "source": [
        "dataset, info = tfds.load('imdb_reviews', with_info=True,\n",
        "                          as_supervised=True)\n",
        "train_dataset, test_dataset = dataset['train'], dataset['test']\n",
        "\n",
        "train_dataset.element_spec"
      ],
      "metadata": {
        "colab": {
          "base_uri": "https://localhost:8080/"
        },
        "id": "j3A4_EuTO0z6",
        "outputId": "f23f296f-cecf-41ba-e68e-af5e3ce8041e"
      },
      "execution_count": 3,
      "outputs": [
        {
          "output_type": "stream",
          "name": "stdout",
          "text": [
            "Downloading and preparing dataset 80.23 MiB (download: 80.23 MiB, generated: Unknown size, total: 80.23 MiB) to /root/tensorflow_datasets/imdb_reviews/plain_text/1.0.0...\n",
            "Dataset imdb_reviews downloaded and prepared to /root/tensorflow_datasets/imdb_reviews/plain_text/1.0.0. Subsequent calls will reuse this data.\n"
          ]
        },
        {
          "output_type": "execute_result",
          "data": {
            "text/plain": [
              "(TensorSpec(shape=(), dtype=tf.string, name=None),\n",
              " TensorSpec(shape=(), dtype=tf.int64, name=None))"
            ]
          },
          "metadata": {},
          "execution_count": 3
        }
      ]
    },
    {
      "cell_type": "markdown",
      "source": [
        "Awalnya ini mengembalikan dataset (teks, pasangan label):"
      ],
      "metadata": {
        "id": "uG__VVqwO2OE"
      }
    },
    {
      "cell_type": "code",
      "source": [
        "for example, label in train_dataset.take(1):\n",
        "  print('text: ', example.numpy())\n",
        "  print('label: ', label.numpy())"
      ],
      "metadata": {
        "colab": {
          "base_uri": "https://localhost:8080/"
        },
        "id": "5Kxa8R9WO4aK",
        "outputId": "b917015f-32d2-47d3-993f-2db6d173ccf3"
      },
      "execution_count": 4,
      "outputs": [
        {
          "output_type": "stream",
          "name": "stdout",
          "text": [
            "text:  b\"This was an absolutely terrible movie. Don't be lured in by Christopher Walken or Michael Ironside. Both are great actors, but this must simply be their worst role in history. Even their great acting could not redeem this movie's ridiculous storyline. This movie is an early nineties US propaganda piece. The most pathetic scenes were those when the Columbian rebels were making their cases for revolutions. Maria Conchita Alonso appeared phony, and her pseudo-love affair with Walken was nothing but a pathetic emotional plug in a movie that was devoid of any real meaning. I am disappointed that there are movies like this, ruining actor's like Christopher Walken's good name. I could barely sit through it.\"\n",
            "label:  0\n"
          ]
        }
      ]
    },
    {
      "cell_type": "markdown",
      "source": [
        "Berikutnya acak data untuk pelatihan dan membuat kumpulan pasangan (teks, label) ini:"
      ],
      "metadata": {
        "id": "9ceW_Fc0O5lB"
      }
    },
    {
      "cell_type": "code",
      "source": [
        "BUFFER_SIZE = 10000\n",
        "BATCH_SIZE = 64\n",
        "\n",
        "train_dataset = train_dataset.shuffle(BUFFER_SIZE).batch(BATCH_SIZE).prefetch(tf.data.AUTOTUNE)\n",
        "test_dataset = test_dataset.batch(BATCH_SIZE).prefetch(tf.data.AUTOTUNE)\n",
        "\n",
        "for example, label in train_dataset.take(1):\n",
        "  print('texts: ', example.numpy()[:3])\n",
        "  print()\n",
        "  print('labels: ', label.numpy()[:3])"
      ],
      "metadata": {
        "colab": {
          "base_uri": "https://localhost:8080/"
        },
        "id": "9Vfu-mAaO9ZN",
        "outputId": "957c8a9a-24b2-4be7-db1d-08a09a68d84f"
      },
      "execution_count": 5,
      "outputs": [
        {
          "output_type": "stream",
          "name": "stdout",
          "text": [
            "texts:  [b'The movie had a cute opening, I truly believed I was in for one of the best romantic comedies i\\'ve seen in a while... there was something particular \"foreign\" about the way the movie was set up, realistic yet somewhat abstract and mystical. But then the story line started becoming more and more unrealistic. To say that the ending was CORNY and PREDICTABLE would almost be an understatement... The most typical romantic ending where everything goes great for every \\'likable\\' character. A scene where the main character realises that he has made a mistake and chases the \"woman of his dreams\" only to confess his love for her in front of a sympathetic crowd of on- lookers. Come on. In the end, the \\'good guys\\' win, \\'bad guys\\' loose... You get the picture. A WASTE of a potentially interesting movie.'\n",
            " b\"This is a bit of a first for me, the first time I have ever been disappointed in a Tim Burton film. POTA isn't a bad film (great sets, costumes and the odd great performance) but it could have been made by any off-the-shelf hollywood director. The pacing was very odd, the last third was just spent waiting for the film to end, by myself and the cast. Tim Roth was excellent, probably the only pleasure in the film. Come back Tim.\"\n",
            " b'Joan Fontaine is \"A Damsel in Distress\" in this 1937 musical starring Fred Astaire, George Burns, and Gracie Allen. The plot, what there is of it, is about a British woman (Fontaine) in love with an American, who is mistaken for Astaire, a musical comedy star.<br /><br />The film, directed by George Stevens, contains some wonderful Gershwin music, including \"Nice Work if You Can Get It\" and \"A Foggy Day.\" The best scene is the \"Stiff Upper Lip\" number, which takes place in a fun house.<br /><br />Astaire\\'s singing voice sounds more robust in this film than it does in others, and he has a couple of excellent dance numbers. Burns plays his over the top publicist and Allen is Burns\\' secretary. She\\'s hilarious. The problem, as others have pointed out, is Fontaine, who has to dance with Astaire at the end of the film. Stevens could easily have used a double because he shows the dance in a long shot, and it takes place among the trees. I would have thought it was a double except the dancing was so lousy.<br /><br />Definitely worth seeing despite its flaws.']\n",
            "\n",
            "labels:  [0 0 1]\n"
          ]
        }
      ]
    },
    {
      "cell_type": "markdown",
      "source": [
        "### Buat Teks Encoder"
      ],
      "metadata": {
        "id": "VdsEef2oO-7f"
      }
    },
    {
      "cell_type": "markdown",
      "source": [
        "Teks mentah yang dimuat oleh tfds perlu diproses sebelum dapat digunakan dalam model. Cara termudah memproses teks untuk pelatihan adalah menggunakan lapisan TextVectorization. Lapisan ini memiliki banyak kemampuan, namun pada tutorial ini menggunakan perilaku default. Buat lapisan tersebut, dan teruskan teks kumpulan data ke metode .adapt lapisan:"
      ],
      "metadata": {
        "id": "lj6D12JtPAm5"
      }
    },
    {
      "cell_type": "code",
      "source": [
        "VOCAB_SIZE = 1000\n",
        "encoder = tf.keras.layers.TextVectorization(\n",
        "    max_tokens=VOCAB_SIZE)\n",
        "encoder.adapt(train_dataset.map(lambda text, label: text))"
      ],
      "metadata": {
        "id": "ZJ52A0U8PB0N"
      },
      "execution_count": 6,
      "outputs": []
    },
    {
      "cell_type": "markdown",
      "source": [
        "Metode .adapt mengatur kosakata lapisan. 20 token pertama dapat dilihat dengan kode berikut. Setelah padding dan token yang tidak diketahui, mereka diurutkan berdasarkan frekuensi:"
      ],
      "metadata": {
        "id": "SpAkaqaNPDGG"
      }
    },
    {
      "cell_type": "code",
      "source": [
        "vocab = np.array(encoder.get_vocabulary())\n",
        "vocab[:20]\n"
      ],
      "metadata": {
        "colab": {
          "base_uri": "https://localhost:8080/"
        },
        "id": "7WLkixXcPFum",
        "outputId": "acbd9f20-875a-40a2-b713-a04043014883"
      },
      "execution_count": 7,
      "outputs": [
        {
          "output_type": "execute_result",
          "data": {
            "text/plain": [
              "array(['', '[UNK]', 'the', 'and', 'a', 'of', 'to', 'is', 'in', 'it', 'i',\n",
              "       'this', 'that', 'br', 'was', 'as', 'for', 'with', 'movie', 'but'],\n",
              "      dtype='<U14')"
            ]
          },
          "metadata": {},
          "execution_count": 7
        }
      ]
    },
    {
      "cell_type": "markdown",
      "source": [
        "Setelah kosakata diatur, lapisan dapat mengkodekan teks ke dalam indeks. Tensor indeks diberi bantalan 0 ke urutan terpanjang dalam batch (kecuali jika Anda menetapkan output_sequence_length tetap):"
      ],
      "metadata": {
        "id": "jUqeMN1pPIqh"
      }
    },
    {
      "cell_type": "code",
      "source": [
        "encoded_example = encoder(example)[:3].numpy()\n",
        "encoded_example"
      ],
      "metadata": {
        "colab": {
          "base_uri": "https://localhost:8080/"
        },
        "id": "hgvrQR3sPJ6c",
        "outputId": "88a93955-c320-4da6-ec73-89769b06dfdd"
      },
      "execution_count": 8,
      "outputs": [
        {
          "output_type": "execute_result",
          "data": {
            "text/plain": [
              "array([[ 2, 18, 67, ...,  0,  0,  0],\n",
              "       [11,  7,  4, ...,  0,  0,  0],\n",
              "       [ 1,  1,  7, ...,  0,  0,  0]])"
            ]
          },
          "metadata": {},
          "execution_count": 8
        }
      ]
    },
    {
      "cell_type": "markdown",
      "source": [
        "Dengan pengaturan default, prosesnya tidak dapat dibalik sepenuhnya. Ada dua alasan utama untuk itu:\n",
        "\n",
        "-Nilai default untuk argumen standarisasi preprocessing.TextVectorization adalah \"lower_and_strip_punctuation\".\n",
        "\n",
        "-Ukuran kosa kata yang terbatas dan kurangnya fallback berbasis karakter menghasilkan beberapa token yang tidak diketahui."
      ],
      "metadata": {
        "id": "LhLX7AQAPNDs"
      }
    },
    {
      "cell_type": "code",
      "source": [
        "for n in range(3):\n",
        "  print(\"Original: \", example[n].numpy())\n",
        "  print(\"Round-trip: \", \" \".join(vocab[encoded_example[n]]))\n",
        "  print()"
      ],
      "metadata": {
        "colab": {
          "base_uri": "https://localhost:8080/"
        },
        "id": "iPZAXt3_PPxK",
        "outputId": "837c748d-a235-4573-a44f-da02d024fd3f"
      },
      "execution_count": 9,
      "outputs": [
        {
          "output_type": "stream",
          "name": "stdout",
          "text": [
            "Original:  b'The movie had a cute opening, I truly believed I was in for one of the best romantic comedies i\\'ve seen in a while... there was something particular \"foreign\" about the way the movie was set up, realistic yet somewhat abstract and mystical. But then the story line started becoming more and more unrealistic. To say that the ending was CORNY and PREDICTABLE would almost be an understatement... The most typical romantic ending where everything goes great for every \\'likable\\' character. A scene where the main character realises that he has made a mistake and chases the \"woman of his dreams\" only to confess his love for her in front of a sympathetic crowd of on- lookers. Come on. In the end, the \\'good guys\\' win, \\'bad guys\\' loose... You get the picture. A WASTE of a potentially interesting movie.'\n",
            "Round-trip:  the movie had a [UNK] opening i truly [UNK] i was in for one of the best romantic [UNK] ive seen in a while there was something particular [UNK] about the way the movie was set up realistic yet somewhat [UNK] and [UNK] but then the story line started [UNK] more and more [UNK] to say that the ending was [UNK] and predictable would almost be an [UNK] the most typical romantic ending where everything goes great for every [UNK] character a scene where the main character [UNK] that he has made a [UNK] and [UNK] the woman of his [UNK] only to [UNK] his love for her in [UNK] of a [UNK] [UNK] of on [UNK] come on in the end the good guys [UNK] bad guys [UNK] you get the picture a waste of a [UNK] interesting movie                                                                                                                                                                                                                                                                                                                                                                                                                                                                                                                                                                                                                                                                                                                                                                                                                                                                                         \n",
            "\n",
            "Original:  b\"This is a bit of a first for me, the first time I have ever been disappointed in a Tim Burton film. POTA isn't a bad film (great sets, costumes and the odd great performance) but it could have been made by any off-the-shelf hollywood director. The pacing was very odd, the last third was just spent waiting for the film to end, by myself and the cast. Tim Roth was excellent, probably the only pleasure in the film. Come back Tim.\"\n",
            "Round-trip:  this is a bit of a first for me the first time i have ever been disappointed in a [UNK] [UNK] film [UNK] isnt a bad film great sets [UNK] and the [UNK] great performance but it could have been made by any [UNK] hollywood director the [UNK] was very [UNK] the last third was just [UNK] [UNK] for the film to end by myself and the cast [UNK] [UNK] was excellent probably the only [UNK] in the film come back [UNK]                                                                                                                                                                                                                                                                                                                                                                                                                                                                                                                                                                                                                                                                                                                                                                                                                                                                                                                                                   \n",
            "\n",
            "Original:  b'Joan Fontaine is \"A Damsel in Distress\" in this 1937 musical starring Fred Astaire, George Burns, and Gracie Allen. The plot, what there is of it, is about a British woman (Fontaine) in love with an American, who is mistaken for Astaire, a musical comedy star.<br /><br />The film, directed by George Stevens, contains some wonderful Gershwin music, including \"Nice Work if You Can Get It\" and \"A Foggy Day.\" The best scene is the \"Stiff Upper Lip\" number, which takes place in a fun house.<br /><br />Astaire\\'s singing voice sounds more robust in this film than it does in others, and he has a couple of excellent dance numbers. Burns plays his over the top publicist and Allen is Burns\\' secretary. She\\'s hilarious. The problem, as others have pointed out, is Fontaine, who has to dance with Astaire at the end of the film. Stevens could easily have used a double because he shows the dance in a long shot, and it takes place among the trees. I would have thought it was a double except the dancing was so lousy.<br /><br />Definitely worth seeing despite its flaws.'\n",
            "Round-trip:  [UNK] [UNK] is a [UNK] in [UNK] in this [UNK] musical [UNK] [UNK] [UNK] george [UNK] and [UNK] [UNK] the plot what there is of it is about a british woman [UNK] in love with an american who is [UNK] for [UNK] a musical comedy [UNK] br the film directed by george [UNK] [UNK] some wonderful [UNK] music including nice work if you can get it and a [UNK] day the best scene is the [UNK] [UNK] [UNK] number which takes place in a fun [UNK] br [UNK] [UNK] voice sounds more [UNK] in this film than it does in others and he has a couple of excellent dance [UNK] [UNK] plays his over the top [UNK] and [UNK] is [UNK] [UNK] shes hilarious the problem as others have [UNK] out is [UNK] who has to dance with [UNK] at the end of the film [UNK] could easily have used a [UNK] because he shows the dance in a long shot and it takes place among the [UNK] i would have thought it was a [UNK] except the [UNK] was so [UNK] br definitely worth seeing despite its [UNK]                                                                                                                                                                                                                                                                                                                                                                                                                                                                                                                                                                                                                                                                                                                                                                                                                                        \n",
            "\n"
          ]
        }
      ]
    },
    {
      "cell_type": "markdown",
      "source": [
        "### Buat Model"
      ],
      "metadata": {
        "id": "vsAUXmsiPR-A"
      }
    },
    {
      "cell_type": "code",
      "source": [
        "model = tf.keras.Sequential([\n",
        "    encoder,\n",
        "    tf.keras.layers.Embedding(\n",
        "        input_dim=len(encoder.get_vocabulary()),\n",
        "        output_dim=64,\n",
        "        # Use masking to handle the variable sequence lengths\n",
        "        mask_zero=True),\n",
        "    tf.keras.layers.Bidirectional(tf.keras.layers.LSTM(64)),\n",
        "    tf.keras.layers.Dense(64, activation='relu'),\n",
        "    tf.keras.layers.Dense(1)\n",
        "])"
      ],
      "metadata": {
        "id": "cAE5QRhvPRta"
      },
      "execution_count": 10,
      "outputs": []
    },
    {
      "cell_type": "markdown",
      "source": [
        "Lapisan penyematan menggunakan masking (uses masking ) untuk menangani panjang urutan yang bervariasi. Semua lapisan setelah penyematan dukungan penyematan"
      ],
      "metadata": {
        "id": "PogBNQA9PXOR"
      }
    },
    {
      "cell_type": "code",
      "source": [
        "print([layer.supports_masking for layer in model.layers])"
      ],
      "metadata": {
        "colab": {
          "base_uri": "https://localhost:8080/"
        },
        "id": "lnxsrdRzPYIj",
        "outputId": "e2690241-6102-4d9a-a795-4351369780bc"
      },
      "execution_count": 11,
      "outputs": [
        {
          "output_type": "stream",
          "name": "stdout",
          "text": [
            "[False, True, True, True, True]\n"
          ]
        }
      ]
    },
    {
      "cell_type": "markdown",
      "source": [
        "Untuk memastikan bahwa ini berfungsi seperti yang diharapkan, evaluasi sebuah kalimat dua kali. Pertama, satu kalimat sehingga tidak ada bantalan (padding) untuk disamarkan:"
      ],
      "metadata": {
        "id": "wP0GleITPZK5"
      }
    },
    {
      "cell_type": "code",
      "source": [
        "# predict on a sample text without padding.\n",
        "\n",
        "sample_text = ('The movie was cool. The animation and the graphics '\n",
        "               'were out of this world. I would recommend this movie.')\n",
        "predictions = model.predict(np.array([sample_text]))\n",
        "print(predictions[0])"
      ],
      "metadata": {
        "colab": {
          "base_uri": "https://localhost:8080/"
        },
        "id": "WF4ZxCdwPamt",
        "outputId": "6669dc38-3c8b-4b0a-88cf-f4cbe67aceb0"
      },
      "execution_count": 12,
      "outputs": [
        {
          "output_type": "stream",
          "name": "stdout",
          "text": [
            "1/1 [==============================] - 8s 8s/step\n",
            "[-0.00814811]\n"
          ]
        }
      ]
    },
    {
      "cell_type": "markdown",
      "source": [
        "Sekarang, evaluasi lagi dalam batch dengan kalimat yang lebih panjang. Hasilnya harus sama:"
      ],
      "metadata": {
        "id": "DGa55UAvPbsL"
      }
    },
    {
      "cell_type": "code",
      "source": [
        "# predict on a sample text with padding\n",
        "\n",
        "padding = \"the \" * 2000\n",
        "predictions = model.predict(np.array([sample_text, padding]))\n",
        "print(predictions[0])"
      ],
      "metadata": {
        "colab": {
          "base_uri": "https://localhost:8080/"
        },
        "id": "cjv9TTsfPcpA",
        "outputId": "f915bd2c-be9c-4b57-ca4e-642a25c092d2"
      },
      "execution_count": 13,
      "outputs": [
        {
          "output_type": "stream",
          "name": "stdout",
          "text": [
            "1/1 [==============================] - 0s 62ms/step\n",
            "[-0.00814811]\n"
          ]
        }
      ]
    },
    {
      "cell_type": "markdown",
      "source": [
        "compile model Keras untuk mengonfigurasi proses pelatihan:"
      ],
      "metadata": {
        "id": "PPnKsLi-PdrB"
      }
    },
    {
      "cell_type": "code",
      "source": [
        "model.compile(loss=tf.keras.losses.BinaryCrossentropy(from_logits=True),\n",
        "              optimizer=tf.keras.optimizers.Adam(1e-4),\n",
        "              metrics=['accuracy'])"
      ],
      "metadata": {
        "id": "vbvGODshPeug"
      },
      "execution_count": 14,
      "outputs": []
    },
    {
      "cell_type": "markdown",
      "source": [
        "### Train Model"
      ],
      "metadata": {
        "id": "MGtSIYIvPfsi"
      }
    },
    {
      "cell_type": "code",
      "source": [
        "history = model.fit(train_dataset, epochs=10,\n",
        "  validation_data=test_dataset,\n",
        "  validation_steps=30)"
      ],
      "metadata": {
        "colab": {
          "base_uri": "https://localhost:8080/"
        },
        "id": "okxxlWGDPhw_",
        "outputId": "875ed8e1-04de-4db1-87a9-7aeb31a64df2"
      },
      "execution_count": 15,
      "outputs": [
        {
          "output_type": "stream",
          "name": "stdout",
          "text": [
            "Epoch 1/10\n",
            "391/391 [==============================] - 53s 111ms/step - loss: 0.6441 - accuracy: 0.5612 - val_loss: 0.4823 - val_accuracy: 0.7589\n",
            "Epoch 2/10\n",
            "391/391 [==============================] - 27s 68ms/step - loss: 0.4293 - accuracy: 0.8056 - val_loss: 0.3821 - val_accuracy: 0.8391\n",
            "Epoch 3/10\n",
            "391/391 [==============================] - 26s 65ms/step - loss: 0.3612 - accuracy: 0.8435 - val_loss: 0.3558 - val_accuracy: 0.8479\n",
            "Epoch 4/10\n",
            "391/391 [==============================] - 27s 68ms/step - loss: 0.3305 - accuracy: 0.8583 - val_loss: 0.3381 - val_accuracy: 0.8500\n",
            "Epoch 5/10\n",
            "391/391 [==============================] - 26s 66ms/step - loss: 0.3141 - accuracy: 0.8666 - val_loss: 0.3284 - val_accuracy: 0.8594\n",
            "Epoch 6/10\n",
            "391/391 [==============================] - 27s 67ms/step - loss: 0.3100 - accuracy: 0.8688 - val_loss: 0.3292 - val_accuracy: 0.8500\n",
            "Epoch 7/10\n",
            "391/391 [==============================] - 26s 66ms/step - loss: 0.3026 - accuracy: 0.8705 - val_loss: 0.3267 - val_accuracy: 0.8562\n",
            "Epoch 8/10\n",
            "391/391 [==============================] - 26s 66ms/step - loss: 0.3015 - accuracy: 0.8722 - val_loss: 0.3204 - val_accuracy: 0.8599\n",
            "Epoch 9/10\n",
            "391/391 [==============================] - 26s 67ms/step - loss: 0.2983 - accuracy: 0.8731 - val_loss: 0.3226 - val_accuracy: 0.8599\n",
            "Epoch 10/10\n",
            "391/391 [==============================] - 26s 65ms/step - loss: 0.2949 - accuracy: 0.8748 - val_loss: 0.3220 - val_accuracy: 0.8552\n"
          ]
        }
      ]
    },
    {
      "cell_type": "code",
      "source": [
        "test_loss, test_acc = model.evaluate(test_dataset)\n",
        "\n",
        "print('Test Loss:', test_loss)\n",
        "print('Test Accuracy:', test_acc)"
      ],
      "metadata": {
        "colab": {
          "base_uri": "https://localhost:8080/"
        },
        "id": "HOxJ72cgPipu",
        "outputId": "63e9ca1f-0396-40f9-dcfc-ff8b607d2f77"
      },
      "execution_count": 16,
      "outputs": [
        {
          "output_type": "stream",
          "name": "stdout",
          "text": [
            "391/391 [==============================] - 12s 31ms/step - loss: 0.3175 - accuracy: 0.8578\n",
            "Test Loss: 0.31746312975883484\n",
            "Test Accuracy: 0.8578000068664551\n"
          ]
        }
      ]
    },
    {
      "cell_type": "code",
      "source": [
        "plt.figure(figsize=(16, 8))\n",
        "plt.subplot(1, 2, 1)\n",
        "plot_graphs(history, 'accuracy')\n",
        "plt.ylim(None, 1)\n",
        "plt.subplot(1, 2, 2)\n",
        "plot_graphs(history, 'loss')\n",
        "plt.ylim(0, None)"
      ],
      "metadata": {
        "colab": {
          "base_uri": "https://localhost:8080/",
          "height": 719
        },
        "id": "7LiR2-Y-PjwO",
        "outputId": "25dcdd5e-b527-4804-fa67-d043e09726d0"
      },
      "execution_count": 17,
      "outputs": [
        {
          "output_type": "execute_result",
          "data": {
            "text/plain": [
              "(0.0, 0.6615501135587692)"
            ]
          },
          "metadata": {},
          "execution_count": 17
        },
        {
          "output_type": "display_data",
          "data": {
            "text/plain": [
              "<Figure size 1600x800 with 2 Axes>"
            ],
            "image/png": "[encoded data removed]"
          },
          "metadata": {}
        }
      ]
    },
    {
      "cell_type": "markdown",
      "source": [
        "Jalankan prediksi pada kalimat baru:\n",
        "\n",
        "Jika prediksi >= 0,0 berarti positif, jika tidak maka negatif."
      ],
      "metadata": {
        "id": "YI9bRQK7PlKy"
      }
    },
    {
      "cell_type": "code",
      "source": [
        "sample_text = ('The movie was cool. The animation and the graphics '\n",
        "              'were out of this world. I would recommend this movie.')\n",
        "predictions = model.predict(np.array([sample_text]))"
      ],
      "metadata": {
        "colab": {
          "base_uri": "https://localhost:8080/"
        },
        "id": "H3RB0z-QPnJz",
        "outputId": "0f6fb51c-0edf-4e16-d983-69c0bbea3d35"
      },
      "execution_count": 18,
      "outputs": [
        {
          "output_type": "stream",
          "name": "stdout",
          "text": [
            "1/1 [==============================] - 2s 2s/step\n"
          ]
        }
      ]
    },
    {
      "cell_type": "markdown",
      "source": [
        "### Stack two or more LSTM layers"
      ],
      "metadata": {
        "id": "kj6Y14yKPp2T"
      }
    },
    {
      "cell_type": "code",
      "source": [
        "model = tf.keras.Sequential([\n",
        "  encoder,\n",
        "  tf.keras.layers.Embedding(len(encoder.get_vocabulary()), 64, mask_zero=True),\n",
        "  tf.keras.layers.Bidirectional(tf.keras.layers.LSTM(64, return_sequences=True)),\n",
        "  tf.keras.layers.Bidirectional(tf.keras.layers.LSTM(32)),\n",
        "  tf.keras.layers.Dense(64, activation='relu'),\n",
        "  tf.keras.layers.Dropout(0.5),\n",
        "  tf.keras.layers.Dense(1)\n",
        "])"
      ],
      "metadata": {
        "id": "dZ8-LA7dPsOu"
      },
      "execution_count": 19,
      "outputs": []
    },
    {
      "cell_type": "code",
      "source": [
        "model.compile(loss=tf.keras.losses.BinaryCrossentropy(from_logits=True),\n",
        "  optimizer=tf.keras.optimizers.Adam(1e-4),\n",
        "  metrics=['accuracy'])"
      ],
      "metadata": {
        "id": "ZDxUmfTcPtUs"
      },
      "execution_count": 20,
      "outputs": []
    },
    {
      "cell_type": "code",
      "source": [
        "history = model.fit(train_dataset, epochs=10,\n",
        "  validation_data=test_dataset,\n",
        "  validation_steps=30)"
      ],
      "metadata": {
        "colab": {
          "base_uri": "https://localhost:8080/"
        },
        "id": "0Tr0RiNFPuOG",
        "outputId": "3d161fed-afad-4eee-cc6c-550e4cb521e5"
      },
      "execution_count": 21,
      "outputs": [
        {
          "output_type": "stream",
          "name": "stdout",
          "text": [
            "Epoch 1/10\n",
            "391/391 [==============================] - 82s 155ms/step - loss: 0.6438 - accuracy: 0.5642 - val_loss: 0.5070 - val_accuracy: 0.6979\n",
            "Epoch 2/10\n",
            "391/391 [==============================] - 47s 121ms/step - loss: 0.4189 - accuracy: 0.8124 - val_loss: 0.3823 - val_accuracy: 0.8365\n",
            "Epoch 3/10\n",
            "391/391 [==============================] - 46s 117ms/step - loss: 0.3543 - accuracy: 0.8507 - val_loss: 0.3436 - val_accuracy: 0.8464\n",
            "Epoch 4/10\n",
            "391/391 [==============================] - 46s 118ms/step - loss: 0.3293 - accuracy: 0.8624 - val_loss: 0.3304 - val_accuracy: 0.8490\n",
            "Epoch 5/10\n",
            "391/391 [==============================] - 47s 119ms/step - loss: 0.3147 - accuracy: 0.8677 - val_loss: 0.3299 - val_accuracy: 0.8599\n",
            "Epoch 6/10\n",
            "391/391 [==============================] - 47s 120ms/step - loss: 0.3105 - accuracy: 0.8691 - val_loss: 0.3195 - val_accuracy: 0.8562\n",
            "Epoch 7/10\n",
            "391/391 [==============================] - 49s 124ms/step - loss: 0.3046 - accuracy: 0.8704 - val_loss: 0.3231 - val_accuracy: 0.8500\n",
            "Epoch 8/10\n",
            "391/391 [==============================] - 47s 120ms/step - loss: 0.3019 - accuracy: 0.8693 - val_loss: 0.3214 - val_accuracy: 0.8573\n",
            "Epoch 9/10\n",
            "391/391 [==============================] - 49s 125ms/step - loss: 0.2983 - accuracy: 0.8716 - val_loss: 0.3170 - val_accuracy: 0.8599\n",
            "Epoch 10/10\n",
            "391/391 [==============================] - 47s 119ms/step - loss: 0.2976 - accuracy: 0.8730 - val_loss: 0.3248 - val_accuracy: 0.8510\n"
          ]
        }
      ]
    },
    {
      "cell_type": "code",
      "source": [
        "test_loss, test_acc = model.evaluate(test_dataset)\n",
        "\n",
        "print('Test Loss:', test_loss)\n",
        "print('Test Accuracy:', test_acc)"
      ],
      "metadata": {
        "colab": {
          "base_uri": "https://localhost:8080/"
        },
        "id": "BmJQZwzDPvJG",
        "outputId": "5458a6bc-4ff1-4210-8646-68e5484aaed8"
      },
      "execution_count": 22,
      "outputs": [
        {
          "output_type": "stream",
          "name": "stdout",
          "text": [
            "391/391 [==============================] - 19s 49ms/step - loss: 0.3207 - accuracy: 0.8497\n",
            "Test Loss: 0.3207293152809143\n",
            "Test Accuracy: 0.8497200012207031\n"
          ]
        }
      ]
    },
    {
      "cell_type": "code",
      "source": [
        "# predict on a sample text without padding.\n",
        "\n",
        "sample_text = ('The movie was not good. The animation and the graphics '\n",
        "              'were terrible. I would not recommend this movie.')\n",
        "predictions = model.predict(np.array([sample_text]))\n",
        "print(predictions)"
      ],
      "metadata": {
        "colab": {
          "base_uri": "https://localhost:8080/"
        },
        "id": "9PH2Pm6yP1CO",
        "outputId": "140ceb71-c8c1-44f4-bf2e-90837ac93a3f"
      },
      "execution_count": 23,
      "outputs": [
        {
          "output_type": "stream",
          "name": "stdout",
          "text": [
            "1/1 [==============================] - 6s 6s/step\n",
            "[[-1.673867]]\n"
          ]
        }
      ]
    },
    {
      "cell_type": "code",
      "source": [
        "plt.figure(figsize=(16, 6))\n",
        "plt.subplot(1, 2, 1)\n",
        "plot_graphs(history, 'accuracy')\n",
        "plt.subplot(1, 2, 2)\n",
        "plot_graphs(history, 'loss')"
      ],
      "metadata": {
        "colab": {
          "base_uri": "https://localhost:8080/",
          "height": 542
        },
        "id": "hFNYhht9P3W4",
        "outputId": "3ed16b78-dc77-4d20-ea21-6574c365a55a"
      },
      "execution_count": 24,
      "outputs": [
        {
          "output_type": "display_data",
          "data": {
            "text/plain": [
              "<Figure size 1600x600 with 2 Axes>"
            ],
            "image/png": "[encoded data removed]"
          },
          "metadata": {}
        }
      ]
    }
  ]
}