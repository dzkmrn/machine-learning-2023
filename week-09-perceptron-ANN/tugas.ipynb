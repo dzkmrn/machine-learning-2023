{
 "cells": [
  {
   "cell_type": "markdown",
   "metadata": {},
   "source": [
    "## Tugas\n",
    "- Lakukan klasifikasi pada data MNIST dengan menggunakan model ANN\n",
    "- Anda diperbolehkan melakukan eksplorasi terhadap,\n",
    "    - Metode pra pengolahan\n",
    "    - Pemilihan fitur\n",
    "    - Arsitektur ANN\n",
    "    - Fungsi Aktiviasi\n",
    "- ANN diimplementasikan dengan menggunakan tensorflow.\n",
    "- DIKERJAKAN SECARA BERKELOMPOK\n",
    "- JELASKAN HASIL YANG ANDA DAPATKAN,\n",
    "    - AKURASI\n",
    "    - CONFUSION MATRIX\n",
    "    - KONFIGURASI MODEL --> MULAI DARI PRA PENGOLAHAN SAMPAI ARSITEKTUR ANN"
   ]
  }
 ],
 "metadata": {
  "language_info": {
   "name": "python"
  }
 },
 "nbformat": 4,
 "nbformat_minor": 2
}
