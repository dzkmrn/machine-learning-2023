{
 "cells": [
  {
   "cell_type": "code",
   "execution_count": 1,
   "metadata": {},
   "outputs": [],
   "source": [
    "import numpy as np\n",
    "import matplotlib.pyplot as plt\n",
    "from sklearn import datasets\n",
    "from sklearn.model_selection import train_test_split\n",
    "from sklearn.naive_bayes import GaussianNB\n",
    "from sklearn.svm import SVC\n",
    "from sklearn.metrics import accuracy_score, classification_report, confusion_matrix\n",
    "from sklearn.datasets import fetch_openml"
   ]
  },
  {
   "cell_type": "code",
   "execution_count": 2,
   "metadata": {},
   "outputs": [],
   "source": [
    "mnist = datasets.fetch_openml(\"mnist_784\")"
   ]
  },
  {
   "cell_type": "code",
   "execution_count": 3,
   "metadata": {},
   "outputs": [
    {
     "name": "stdout",
     "output_type": "stream",
     "text": [
      "Jumlah data setiap label:\n",
      "Label 0: 6903 data\n",
      "Label 1: 7877 data\n",
      "Label 2: 6990 data\n",
      "Label 3: 7141 data\n",
      "Label 4: 6824 data\n",
      "Label 5: 6313 data\n",
      "Label 6: 6876 data\n",
      "Label 7: 7293 data\n",
      "Label 8: 6825 data\n",
      "Label 9: 6958 data\n"
     ]
    },
    {
     "data": {
      "image/png": "[encoded data removed]",
      "text/plain": [
       "<Figure size 720x432 with 1 Axes>"
      ]
     },
     "metadata": {
      "needs_background": "light"
     },
     "output_type": "display_data"
    }
   ],
   "source": [
    "# 1. Eksplorasi Dataset\n",
    "labels, counts = np.unique(mnist.target, return_counts=True)\n",
    "print(\"Jumlah data setiap label:\")\n",
    "for label, count in zip(labels, counts):\n",
    "    print(f\"Label {label}: {count} data\")\n",
    "\n",
    "plt.figure(figsize=(10, 6))\n",
    "plt.bar(labels, counts, tick_label=labels)\n",
    "\n",
    "# Adding labels and title\n",
    "plt.xlabel('Label')\n",
    "plt.ylabel('Count')\n",
    "plt.title('Distribution of Labels in MNIST Dataset')\n",
    "\n",
    "# Show the plot\n",
    "plt.show()"
   ]
  },
  {
   "cell_type": "code",
   "execution_count": 4,
   "metadata": {},
   "outputs": [
    {
     "name": "stdout",
     "output_type": "stream",
     "text": [
      "   Label  Jumlah Data  Persentase\n",
      "0      0         6903    9.861429\n",
      "1      1         7877   11.252857\n",
      "2      2         6990    9.985714\n",
      "3      3         7141   10.201429\n",
      "4      4         6824    9.748571\n",
      "5      5         6313    9.018571\n",
      "6      6         6876    9.822857\n",
      "7      7         7293   10.418571\n",
      "8      8         6825    9.750000\n",
      "9      9         6958    9.940000\n"
     ]
    }
   ],
   "source": [
    "import pandas as pd\n",
    "\n",
    "# Data kelas Anda dalam bentuk dictionary\n",
    "data = {\n",
    "    'Label': [0, 1, 2, 3, 4, 5, 6, 7, 8, 9],\n",
    "    'Jumlah Data': [6903, 7877, 6990, 7141, 6824, 6313, 6876, 7293, 6825, 6958]\n",
    "}\n",
    "\n",
    "# Membuat DataFrame dari data\n",
    "df = pd.DataFrame(data)\n",
    "\n",
    "# Menghitung total jumlah data\n",
    "total_data = df['Jumlah Data'].sum()\n",
    "\n",
    "# Menambahkan kolom \"Persentase\" yang berisi persentase distribusi\n",
    "df['Persentase'] = (df['Jumlah Data'] / total_data) * 100\n",
    "\n",
    "# Menampilkan DataFrame\n",
    "print(df)"
   ]
  },
  {
   "cell_type": "code",
   "execution_count": 5,
   "metadata": {},
   "outputs": [
    {
     "data": {
      "image/png": "[encoded data removed]",
      "text/plain": [
       "<Figure size 864x360 with 15 Axes>"
      ]
     },
     "metadata": {
      "needs_background": "light"
     },
     "output_type": "display_data"
    }
   ],
   "source": [
    "import matplotlib.pyplot as plt\n",
    "from sklearn.datasets import fetch_openml\n",
    "\n",
    "# Mengunduh dataset MNIST\n",
    "mnist = fetch_openml('mnist_784', version=1, as_frame=False)\n",
    "\n",
    "# Mengambil data dan label\n",
    "X = mnist.data\n",
    "y = mnist.target\n",
    "\n",
    "# Menampilkan 15 citra pertama berserta labelnya\n",
    "plt.figure(figsize=(12, 5))\n",
    "for i in range(15):\n",
    "    plt.subplot(3, 5, i + 1)\n",
    "    plt.imshow(X[i].reshape(28, 28), cmap='gray')\n",
    "    plt.title(f'Label: {y[i]}')\n",
    "    plt.axis('off')\n",
    "\n",
    "plt.tight_layout()\n",
    "plt.show()"
   ]
  },
  {
   "cell_type": "markdown",
   "metadata": {},
   "source": [
    "## Klasifikasi Menggunakan Algoritma SVM"
   ]
  },
  {
   "cell_type": "code",
   "execution_count": 6,
   "metadata": {},
   "outputs": [],
   "source": [
    "from sklearn.svm import SVC\n",
    "from sklearn.decomposition import PCA as RandomizedPCA\n",
    "from sklearn.pipeline import make_pipeline\n",
    "\n",
    "pca = RandomizedPCA(n_components=150, whiten=True, random_state=42)\n",
    "svc = SVC(kernel='rbf', class_weight='balanced')\n",
    "model = make_pipeline(pca, svc)"
   ]
  },
  {
   "cell_type": "code",
   "execution_count": 7,
   "metadata": {},
   "outputs": [],
   "source": [
    "# pemisahan data training dan data testing dengan 80:20\n",
    "\n",
    "from sklearn.model_selection import train_test_split\n",
    "Xtrain, Xtest, ytrain, ytest = train_test_split(X, y,test_size=0.2, random_state=42)"
   ]
  },
  {
   "cell_type": "markdown",
   "metadata": {},
   "source": [
    "## Mencari hyperparameter yang terbaik untuk menghasilkan kinerja model yang optimal"
   ]
  },
  {
   "cell_type": "code",
   "execution_count": 8,
   "metadata": {},
   "outputs": [
    {
     "name": "stdout",
     "output_type": "stream",
     "text": [
      "Wall time: 18min 40s\n",
      "{'svc__C': 1, 'svc__gamma': 0.001}\n",
      "0.9462857142857143\n"
     ]
    }
   ],
   "source": [
    "from sklearn.model_selection import GridSearchCV\n",
    "param_grid = {'svc__C': [1], \n",
    "              'svc__gamma': [0.001]}\n",
    "grid = GridSearchCV(model, param_grid) #mengombinasikan parameter dalam param_grid untuk model yg telah dibuat \"model\"\n",
    "\n",
    "%time grid.fit(Xtrain, ytrain) #melatih model menggunakan GridSearchCV untuk melakukan kombinasi semua parameter dalam param_grid dgn menggunakan data pelatihan 'X_train' dan data label 'y_train'\n",
    "print(grid.best_params_) #mencetak kombinasi hiperparameter terbaik\n",
    "print(grid.best_score_) #mencetak skor "
   ]
  },
  {
   "cell_type": "code",
   "execution_count": 9,
   "metadata": {},
   "outputs": [],
   "source": [
    "model = grid.best_estimator_ #mengambil model terbaik dari hasil penelusuran hiperparameter\n",
    "yfit = model.predict(Xtest) #membuat prediksi pada data uji 'X_test'"
   ]
  },
  {
   "cell_type": "code",
   "execution_count": 15,
   "metadata": {},
   "outputs": [
    {
     "name": "stdout",
     "output_type": "stream",
     "text": [
      "              precision    recall  f1-score   support\n",
      "\n",
      "           0       0.98      0.98      0.98      1343\n",
      "           1       0.97      0.98      0.97      1600\n",
      "           2       0.94      0.94      0.94      1380\n",
      "           3       0.94      0.93      0.93      1433\n",
      "           4       0.92      0.95      0.93      1295\n",
      "           5       0.93      0.94      0.94      1273\n",
      "           6       0.97      0.97      0.97      1396\n",
      "           7       0.95      0.95      0.95      1503\n",
      "           8       0.95      0.94      0.95      1357\n",
      "           9       0.93      0.92      0.93      1420\n",
      "\n",
      "    accuracy                           0.95     14000\n",
      "   macro avg       0.95      0.95      0.95     14000\n",
      "weighted avg       0.95      0.95      0.95     14000\n",
      "\n"
     ]
    }
   ],
   "source": [
    "from sklearn.metrics import classification_report\n",
    "\n",
    "target_names = [str(i) for i in range(10)]\n",
    "print(classification_report(ytest, yfit, target_names=target_names))"
   ]
  },
  {
   "cell_type": "code",
   "execution_count": 16,
   "metadata": {},
   "outputs": [
    {
     "data": {
      "text/plain": [
       "Text(91.68, 0.5, 'predicted label')"
      ]
     },
     "execution_count": 16,
     "metadata": {},
     "output_type": "execute_result"
    },
    {
     "data": {
      "image/png": "[encoded data removed]",
      "text/plain": [
       "<Figure size 432x288 with 1 Axes>"
      ]
     },
     "metadata": {
      "needs_background": "light"
     },
     "output_type": "display_data"
    }
   ],
   "source": [
    "# bentuk confusion matrix\n",
    "\n",
    "from sklearn.metrics import confusion_matrix\n",
    "import seaborn as sns\n",
    "mat = confusion_matrix(ytest, yfit)\n",
    "sns.heatmap(mat.T, square=True, annot=True, fmt='d', cbar=False,\n",
    "            xticklabels=mnist.target_names,\n",
    "            yticklabels=mnist.target_names)\n",
    "plt.xlabel('true label')\n",
    "plt.ylabel('predicted label')"
   ]
  },
  {
   "cell_type": "code",
   "execution_count": null,
   "metadata": {},
   "outputs": [],
   "source": []
  }
 ],
 "metadata": {
  "kernelspec": {
   "display_name": "base",
   "language": "python",
   "name": "python3"
  },
  "language_info": {
   "codemirror_mode": {
    "name": "ipython",
    "version": 3
   },
   "file_extension": ".py",
   "mimetype": "text/x-python",
   "name": "python",
   "nbconvert_exporter": "python",
   "pygments_lexer": "ipython3",
   "version": "3.8.8"
  },
  "orig_nbformat": 4
 },
 "nbformat": 4,
 "nbformat_minor": 2
}
